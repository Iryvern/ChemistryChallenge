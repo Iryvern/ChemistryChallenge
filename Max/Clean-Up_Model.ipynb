{
 "cells": [
  {
   "attachments": {},
   "cell_type": "markdown",
   "metadata": {},
   "source": [
    "# Clean-Up Model"
   ]
  },
  {
   "attachments": {},
   "cell_type": "markdown",
   "metadata": {},
   "source": [
    "Image restoration is a fundamental task in computer vision that aims to recover the original appearance of images that have been degraded or corrupted. In this data challenge project, we will focus on the task of image restoration using a Convolutional Neural Network (CNN).\n",
    "\n",
    "The provided code demonstrates a CNN-based image restoration model using the TensorFlow and Keras libraries. The goal is to restore degraded images by learning the mapping between the degraded input images and their corresponding clean versions. The model utilizes a U-Net-like architecture, which consists of convolutional and upsampling layers to capture both low-level and high-level features in the images.\n",
    "\n",
    "The dataset used for this project includes pairs of input and output images. The input images represent degraded versions, while the output images represent clean and restored versions. The project follows the following steps:\n",
    "\n",
    "1) Loading and Preprocessing the Data:\n",
    "\n",
    "- The project assumes that the images are stored in a directory specified by dir_name.\n",
    "- The code retrieves the list of input and output image files, assuming a naming convention where \"input\" is present in the input image file names and \"output\" is present in the output image file names.\n",
    "- The images are loaded using PIL (Python Imaging Library) and converted to NumPy arrays.\n",
    "A cropping function is applied to center-crop the images to a specific size.\n",
    "\n",
    "2) Splitting the Data:\n",
    "\n",
    "- The data is split into training and validation sets using the train_test_split function from scikit-learn.\n",
    "- The split is performed on both the input and output images to ensure corresponding pairs are maintained.\n",
    "\n",
    "3) Defining the Model:\n",
    "\n",
    "- The model is defined using the Sequential API of Keras.\n",
    "- It consists of convolutional layers with max pooling and upsampling layers to encode and decode image features.\n",
    "- The final layer uses the sigmoid activation function to produce the restored image.\n",
    "\n",
    "4) Compiling and Training the Model:\n",
    "\n",
    "- The model is compiled with the Adam optimizer and the mean squared error loss function.\n",
    "- The training data is used to fit the model, with a specified number of epochs.\n",
    "- The validation data is used to evaluate the model's performance during training.\n",
    "\n",
    "5) Image Restoration and Visualization:\n",
    "\n",
    "- A new input image is loaded, and the trained model is used to predict the restored version of the image.\n",
    "- The restored image and the original input image are displayed using matplotlib.\n",
    "- This notebook provides a starting point for exploring image restoration using CNNs. By understanding and modifying the code, you can experiment with different architectures, loss functions, and training strategies to further enhance image restoration performance.\n",
    "\n",
    "Note: Ensure that the required libraries are installed before running the code."
   ]
  },
  {
   "cell_type": "code",
   "execution_count": 3,
   "metadata": {},
   "outputs": [
    {
     "name": "stdout",
     "output_type": "stream",
     "text": [
      "Num GPUs Available:  0\n"
     ]
    }
   ],
   "source": [
    "import tensorflow as tf\n",
    "print(\"Num GPUs Available: \", len(tf.config.list_physical_devices('GPU')))"
   ]
  },
  {
   "cell_type": "code",
   "execution_count": 6,
   "metadata": {},
   "outputs": [
    {
     "data": {
      "text/plain": [
       "[]"
      ]
     },
     "execution_count": 6,
     "metadata": {},
     "output_type": "execute_result"
    }
   ],
   "source": [
    "tf.config.list_physical_devices('GPU')"
   ]
  },
  {
   "cell_type": "code",
   "execution_count": 10,
   "metadata": {},
   "outputs": [],
   "source": [
    "tf.debugging.set_log_device_placement(True)"
   ]
  },
  {
   "cell_type": "code",
   "execution_count": 1,
   "metadata": {},
   "outputs": [
    {
     "name": "stdout",
     "output_type": "stream",
     "text": [
      "Epoch 1/10\n",
      "3/3 [==============================] - 54s 12s/step - loss: 0.2157 - val_loss: 0.1321\n",
      "Epoch 2/10\n",
      "3/3 [==============================] - 32s 10s/step - loss: 0.0925 - val_loss: 0.0228\n",
      "Epoch 3/10\n",
      "3/3 [==============================] - 33s 10s/step - loss: 0.0212 - val_loss: 0.0206\n",
      "Epoch 4/10\n",
      "3/3 [==============================] - 33s 10s/step - loss: 0.0206 - val_loss: 0.0206\n",
      "Epoch 5/10\n",
      "3/3 [==============================] - 34s 10s/step - loss: 0.0206 - val_loss: 0.0206\n",
      "Epoch 6/10\n",
      "3/3 [==============================] - 31s 9s/step - loss: 0.0206 - val_loss: 0.0206\n",
      "Epoch 7/10\n",
      "3/3 [==============================] - 27s 8s/step - loss: 0.0206 - val_loss: 0.0206\n",
      "Epoch 8/10\n",
      "3/3 [==============================] - 27s 8s/step - loss: 0.0206 - val_loss: 0.0206\n",
      "Epoch 9/10\n",
      "3/3 [==============================] - 27s 8s/step - loss: 0.0206 - val_loss: 0.0206\n",
      "Epoch 10/10\n",
      "3/3 [==============================] - 26s 8s/step - loss: 0.0206 - val_loss: 0.0206\n",
      "1/1 [==============================] - 0s 226ms/step\n"
     ]
    }
   ],
   "source": [
    "import numpy as np\n",
    "from tensorflow.keras.models import Sequential\n",
    "from tensorflow.keras.layers import Conv2D, MaxPooling2D, UpSampling2D\n",
    "from tensorflow.keras.preprocessing.image import load_img, img_to_array\n",
    "from sklearn.model_selection import train_test_split\n",
    "import os\n",
    "from PIL import Image\n",
    "\n",
    "\n",
    "# Set the directory where your images are\n",
    "dir_name = \"plots\"\n",
    "\n",
    "# Get the list of all files in directory\n",
    "all_files = os.listdir(dir_name)\n",
    "\n",
    "\n",
    "# Get the list of input and output image files\n",
    "input_img_paths = [os.path.join(dir_name, file) for file in all_files if \"input\" in file]\n",
    "output_img_paths = [os.path.join(dir_name, file) for file in all_files if \"output\" in file]\n",
    "\n",
    "# Sort the lists (this assumes that for each input file 'input_plot_n.png' there is an output file 'output_plot_n.png')\n",
    "input_img_paths.sort()\n",
    "output_img_paths.sort()\n",
    "\n",
    "# Load the images and convert them to numpy arrays\n",
    "input_imgs = np.array([np.array(Image.open(img_path)) / 255 for img_path in input_img_paths])\n",
    "output_imgs = np.array([np.array(Image.open(img_path)) / 255 for img_path in output_img_paths])\n",
    "\n",
    "def crop_center(img, crop_width, crop_height):\n",
    "    img_width, img_height = img.size\n",
    "    return img.crop(((img_width - crop_width) // 2,\n",
    "                     (img_height - crop_height) // 2,\n",
    "                     (img_width + crop_width) // 2,\n",
    "                     (img_height + crop_height) // 2))\n",
    "\n",
    "# Get the dimensions of the first input image\n",
    "image_shape = Image.open(input_img_paths[0]).size\n",
    "crop_width, crop_height = image_shape\n",
    "\n",
    "# Load and preprocess the data\n",
    "input_imgs = np.array([img_to_array(crop_center(load_img(img_path), crop_width, crop_height)) / 255 for img_path in input_img_paths])\n",
    "output_imgs = np.array([img_to_array(crop_center(load_img(img_path), crop_width, crop_height)) / 255 for img_path in output_img_paths])\n",
    "\n",
    "\n",
    "\n",
    "# Split the data into training and validation sets\n",
    "input_train, input_val, output_train, output_val = train_test_split(input_imgs, output_imgs, test_size=0.2, random_state=42)\n",
    "\n",
    "# Define the model\n",
    "model = Sequential([\n",
    "    Conv2D(64, (3, 3), activation='relu', padding='same', input_shape=input_imgs.shape[1:]),\n",
    "    MaxPooling2D((2, 2), padding='same'),\n",
    "    Conv2D(32, (3, 3), activation='relu', padding='same'),\n",
    "    MaxPooling2D((2, 2), padding='same'),\n",
    "    Conv2D(32, (3, 3), activation='relu', padding='same'),\n",
    "    UpSampling2D((2, 2)),\n",
    "    Conv2D(64, (3, 3), activation='relu', padding='same'),\n",
    "    UpSampling2D((2, 2)),\n",
    "    Conv2D(3, (3, 3), activation='sigmoid', padding='same')\n",
    "])\n",
    "\n",
    "model.compile(optimizer='adam', loss='mean_squared_error')\n",
    "\n",
    "# Train the model\n",
    "model.fit(input_train, output_train, epochs=10, validation_data=(input_val, output_val))\n",
    "\n",
    "# Predict on a new image\n",
    "new_input_img = img_to_array(load_img(\"C:/Users/maxwe/Documents/Github repos/ChemProject/plots/input_plot_1.png\")) / 255\n",
    "new_output_img = model.predict(new_input_img[np.newaxis, ...])[0]\n"
   ]
  },
  {
   "cell_type": "code",
   "execution_count": 3,
   "metadata": {},
   "outputs": [
    {
     "data": {
      "image/png": "[encoded data removed]",
      "text/plain": [
       "<Figure size 1000x500 with 2 Axes>"
      ]
     },
     "metadata": {},
     "output_type": "display_data"
    }
   ],
   "source": [
    "import matplotlib.pyplot as plt\n",
    "\n",
    "# Convert the data type to uint8 and rescale the values to the 0-255 range\n",
    "new_input_img_disp = np.clip(new_input_img * 255, 0, 255).astype('uint8')\n",
    "new_output_img_disp = np.clip(new_output_img * 255, 0, 255).astype('uint8')\n",
    "\n",
    "# Create a new figure\n",
    "plt.figure(figsize=(10, 5))\n",
    "\n",
    "# Display the original image\n",
    "plt.subplot(1, 2, 1)\n",
    "plt.imshow(new_input_img_disp)\n",
    "plt.title(\"Original image\")\n",
    "plt.axis(\"off\")\n",
    "\n",
    "# Display the predicted image\n",
    "plt.subplot(1, 2, 2)\n",
    "plt.imshow(new_output_img_disp)\n",
    "plt.title(\"Predicted image\")\n",
    "plt.axis(\"off\")\n",
    "\n",
    "# Show the figure\n",
    "plt.show()\n"
   ]
  },
  {
   "attachments": {},
   "cell_type": "markdown",
   "metadata": {},
   "source": [
    "# Attempt 2\n",
    "\n",
    "1000 images"
   ]
  },
  {
   "attachments": {},
   "cell_type": "markdown",
   "metadata": {},
   "source": [
    "The model implemented in the provided code is an autoencoder. Autoencoders are a type of neural network that are trained to reconstruct the input data. They consist of an encoder network that compresses the input data into a latent representation and a decoder network that reconstructs the original data from the latent representation.\n",
    "\n",
    "In this case, the autoencoder is used for image denoising or image restoration. The input images are corrupted or noisy versions, and the model is trained to reconstruct the clean versions of the images as the output. The model consists of convolutional layers, max pooling layers, and up-sampling layers to learn the feature representations and perform the reconstruction.\n",
    "\n",
    "During training, the model learns to minimize the mean squared error loss between the reconstructed images and the clean images. The optimizer used is Adam, and the loss function used is mean squared error.\n",
    "\n",
    "After training the autoencoder, it can be used to predict the clean version of a new input image. The provided code demonstrates this by loading a new input image, preprocessing it, and passing it through the model to obtain the predicted output image.\n",
    "\n",
    "Overall, this model is a convolutional autoencoder that is trained to denoise or restore images by reconstructing the clean versions from the corrupted versions."
   ]
  },
  {
   "attachments": {},
   "cell_type": "markdown",
   "metadata": {},
   "source": [
    "# CPU"
   ]
  },
  {
   "cell_type": "code",
   "execution_count": 2,
   "metadata": {},
   "outputs": [
    {
     "name": "stdout",
     "output_type": "stream",
     "text": [
      "Epoch 1/10\n",
      "25/25 [==============================] - 303s 11s/step - loss: 0.0602 - val_loss: 0.0206\n",
      "Epoch 2/10\n",
      "25/25 [==============================] - 271s 11s/step - loss: 0.0206 - val_loss: 0.0206\n",
      "Epoch 3/10\n",
      "25/25 [==============================] - 282s 11s/step - loss: 0.0206 - val_loss: 0.0206\n",
      "Epoch 4/10\n",
      "25/25 [==============================] - 283s 11s/step - loss: 0.0206 - val_loss: 0.0206\n",
      "Epoch 5/10\n",
      "25/25 [==============================] - 283s 11s/step - loss: 0.0206 - val_loss: 0.0206\n",
      "Epoch 6/10\n",
      "25/25 [==============================] - 281s 11s/step - loss: 0.0206 - val_loss: 0.0206\n",
      "Epoch 7/10\n",
      "25/25 [==============================] - 279s 11s/step - loss: 0.0206 - val_loss: 0.0206\n",
      "Epoch 8/10\n",
      "25/25 [==============================] - 284s 11s/step - loss: 0.0206 - val_loss: 0.0206\n",
      "Epoch 9/10\n",
      "25/25 [==============================] - 288s 11s/step - loss: 0.0206 - val_loss: 0.0206\n",
      "Epoch 10/10\n",
      "25/25 [==============================] - 269s 11s/step - loss: 0.0206 - val_loss: 0.0206\n",
      "1/1 [==============================] - 0s 247ms/step\n"
     ]
    }
   ],
   "source": [
    "import numpy as np\n",
    "from tensorflow.keras.models import Sequential\n",
    "from tensorflow.keras.layers import Conv2D, MaxPooling2D, UpSampling2D\n",
    "from tensorflow.keras.preprocessing.image import load_img, img_to_array\n",
    "from sklearn.model_selection import train_test_split\n",
    "import os\n",
    "from PIL import Image\n",
    "import tensorflow as tf\n",
    "import matplotlib.pyplot as plt\n",
    "\n",
    "\n",
    "# Set the directory where your images are\n",
    "dir_name = \"plots\"\n",
    "\n",
    "# Get the list of all files in directory\n",
    "all_files = os.listdir(dir_name)\n",
    "\n",
    "\n",
    "# Get the list of input and output image files\n",
    "input_img_paths = [os.path.join(dir_name, file) for file in all_files if \"input\" in file]\n",
    "output_img_paths = [os.path.join(dir_name, file) for file in all_files if \"output\" in file]\n",
    "\n",
    "# Sort the lists (this assumes that for each input file 'input_plot_n.png' there is an output file 'output_plot_n.png')\n",
    "input_img_paths.sort()\n",
    "output_img_paths.sort()\n",
    "\n",
    "# Load the images and convert them to numpy arrays\n",
    "input_imgs = np.array([np.array(Image.open(img_path)) / 255 for img_path in input_img_paths])\n",
    "output_imgs = np.array([np.array(Image.open(img_path)) / 255 for img_path in output_img_paths])\n",
    "\n",
    "def crop_center(img, crop_width, crop_height):\n",
    "    img_width, img_height = img.size\n",
    "    return img.crop(((img_width - crop_width) // 2,\n",
    "                     (img_height - crop_height) // 2,\n",
    "                     (img_width + crop_width) // 2,\n",
    "                     (img_height + crop_height) // 2))\n",
    "\n",
    "# Get the dimensions of the first input image\n",
    "image_shape = Image.open(input_img_paths[0]).size\n",
    "crop_width, crop_height = image_shape\n",
    "\n",
    "# Load and preprocess the data\n",
    "input_imgs = np.array([img_to_array(crop_center(load_img(img_path), crop_width, crop_height)) / 255 for img_path in input_img_paths])\n",
    "output_imgs = np.array([img_to_array(crop_center(load_img(img_path), crop_width, crop_height)) / 255 for img_path in output_img_paths])\n",
    "\n",
    "# Split the data into training and validation sets\n",
    "input_train, input_val, output_train, output_val = train_test_split(input_imgs, output_imgs, test_size=0.2, random_state=42)\n",
    "\n",
    "# Set the CPU as the default device\n",
    "tf.config.set_visible_devices([], 'GPU')\n",
    "\n",
    "# Define the model\n",
    "model = Sequential([\n",
    "    Conv2D(64, (3, 3), activation='relu', padding='same', input_shape=input_imgs.shape[1:]),\n",
    "    MaxPooling2D((2, 2), padding='same'),\n",
    "    Conv2D(32, (3, 3), activation='relu', padding='same'),\n",
    "    MaxPooling2D((2, 2), padding='same'),\n",
    "    Conv2D(32, (3, 3), activation='relu', padding='same'),\n",
    "    UpSampling2D((2, 2)),\n",
    "    Conv2D(64, (3, 3), activation='relu', padding='same'),\n",
    "    UpSampling2D((2, 2)),\n",
    "    Conv2D(3, (3, 3), activation='sigmoid', padding='same')\n",
    "])\n",
    "\n",
    "# Compile the model\n",
    "model.compile(optimizer='adam', loss='mean_squared_error')\n",
    "\n",
    "# Train the model\n",
    "with tf.device('/CPU:0'):  # Specify CPU device\n",
    "    model.fit(input_train, output_train, epochs=10, validation_data=(input_val, output_val))\n",
    "\n",
    "# Predict on a new image\n",
    "new_input_img = img_to_array(load_img(\"C:/Users/maxwe/Documents/Github repos/ChemProject/plots/input_plot_1.png\")) / 255\n",
    "new_output_img = model.predict(new_input_img[np.newaxis, ...])[0]\n"
   ]
  },
  {
   "cell_type": "code",
   "execution_count": 1,
   "metadata": {},
   "outputs": [
    {
     "name": "stdout",
     "output_type": "stream",
     "text": [
      "25/25 [==============================] - 297s 11s/step - loss: 0.0472 - val_loss: 0.0206\n",
      "1/1 [==============================] - 0s 115ms/step\n"
     ]
    }
   ],
   "source": [
    "import numpy as np\n",
    "from tensorflow.keras.models import Sequential\n",
    "from tensorflow.keras.layers import Conv2D, MaxPooling2D, UpSampling2D\n",
    "from tensorflow.keras.preprocessing.image import load_img, img_to_array\n",
    "from sklearn.model_selection import train_test_split\n",
    "import os\n",
    "from PIL import Image\n",
    "import tensorflow as tf\n",
    "import matplotlib.pyplot as plt\n",
    "from tensorflow.keras.optimizers import Adam\n",
    "\n",
    "# Set the directory where your images are\n",
    "dir_name = \"plots\"\n",
    "\n",
    "# Get the list of all files in directory\n",
    "all_files = os.listdir(dir_name)\n",
    "\n",
    "\n",
    "# Get the list of input and output image files\n",
    "input_img_paths = [os.path.join(dir_name, file) for file in all_files if \"input\" in file]\n",
    "output_img_paths = [os.path.join(dir_name, file) for file in all_files if \"output\" in file]\n",
    "\n",
    "# Sort the lists (this assumes that for each input file 'input_plot_n.png' there is an output file 'output_plot_n.png')\n",
    "input_img_paths.sort()\n",
    "output_img_paths.sort()\n",
    "\n",
    "# Load the images and convert them to numpy arrays\n",
    "input_imgs = np.array([np.array(Image.open(img_path)) / 255 for img_path in input_img_paths])\n",
    "output_imgs = np.array([np.array(Image.open(img_path)) / 255 for img_path in output_img_paths])\n",
    "\n",
    "def crop_center(img, crop_width, crop_height):\n",
    "    img_width, img_height = img.size\n",
    "    return img.crop(((img_width - crop_width) // 2,\n",
    "                     (img_height - crop_height) // 2,\n",
    "                     (img_width + crop_width) // 2,\n",
    "                     (img_height + crop_height) // 2))\n",
    "\n",
    "# Get the dimensions of the first input image\n",
    "image_shape = Image.open(input_img_paths[0]).size\n",
    "crop_width, crop_height = image_shape\n",
    "\n",
    "# Load and preprocess the data\n",
    "input_imgs = np.array([img_to_array(crop_center(load_img(img_path), crop_width, crop_height)) / 255 for img_path in input_img_paths])\n",
    "output_imgs = np.array([img_to_array(crop_center(load_img(img_path), crop_width, crop_height)) / 255 for img_path in output_img_paths])\n",
    "\n",
    "# Split the data into training and validation sets\n",
    "input_train, input_val, output_train, output_val = train_test_split(input_imgs, output_imgs, test_size=0.2, random_state=42)\n",
    "\n",
    "# Set the CPU as the default device\n",
    "tf.config.set_visible_devices([], 'GPU')\n",
    "\n",
    "# Define the model\n",
    "model = Sequential([\n",
    "    Conv2D(64, (3, 3), activation='relu', padding='same', input_shape=input_imgs.shape[1:]),\n",
    "    MaxPooling2D((2, 2), padding='same'),\n",
    "    Conv2D(32, (3, 3), activation='relu', padding='same'),\n",
    "    MaxPooling2D((2, 2), padding='same'),\n",
    "    Conv2D(32, (3, 3), activation='relu', padding='same'),\n",
    "    UpSampling2D((2, 2)),\n",
    "    Conv2D(64, (3, 3), activation='relu', padding='same'),\n",
    "    UpSampling2D((2, 2)),\n",
    "    Conv2D(3, (3, 3), activation='sigmoid', padding='same')\n",
    "])\n",
    "\n",
    "# Compile the model\n",
    "learning_rate = 0.001  # Adjust this value as needed\n",
    "optimizer = Adam(learning_rate=learning_rate)\n",
    "\n",
    "model.compile(optimizer=optimizer, loss='mean_squared_error')\n",
    "\n",
    "# Train the model\n",
    "with tf.device('/CPU:0'):  # Specify CPU device\n",
    "    model.fit(input_train, output_train, epochs=1, validation_data=(input_val, output_val))\n",
    "\n",
    "# Predict on a new image\n",
    "new_input_img = img_to_array(load_img(\"C:/Users/maxwe/Documents/Github repos/ChemProject/plots/input_plot_1.png\")) / 255\n",
    "new_input_img = np.expand_dims(new_input_img, axis=0)  # Add extra dimension for batch\n",
    "new_output_img = model.predict(new_input_img)[0]\n",
    "\n",
    "\n"
   ]
  },
  {
   "cell_type": "code",
   "execution_count": 5,
   "metadata": {},
   "outputs": [
    {
     "data": {
      "image/png": "[encoded data removed]",
      "text/plain": [
       "<Figure size 1000x500 with 2 Axes>"
      ]
     },
     "metadata": {},
     "output_type": "display_data"
    }
   ],
   "source": [
    "# Convert the data type to uint8 and rescale the values to the 0-255 range\n",
    "new_input_img_disp = np.clip(new_input_img * 255, 0, 255).astype('uint8')\n",
    "new_output_img_disp = np.clip(new_output_img * 255, 0, 255).astype('uint8')\n",
    "\n",
    "# Create a new figure\n",
    "plt.figure(figsize=(10, 5))\n",
    "\n",
    "# Display the original image\n",
    "plt.subplot(1, 2, 1)\n",
    "plt.imshow(np.squeeze(new_input_img_disp))  # Use np.squeeze to remove the first dimension\n",
    "plt.title(\"Original image\")\n",
    "plt.axis(\"off\")\n",
    "\n",
    "# Display the predicted image\n",
    "plt.subplot(1, 2, 2)\n",
    "plt.imshow(np.squeeze(new_output_img_disp))  # Use np.squeeze to remove the first dimension\n",
    "plt.title(\"Predicted image\")\n",
    "plt.axis(\"off\")\n",
    "\n",
    "# Show the figure\n",
    "plt.show()"
   ]
  },
  {
   "attachments": {},
   "cell_type": "markdown",
   "metadata": {},
   "source": [
    "# GPU"
   ]
  },
  {
   "cell_type": "code",
   "execution_count": 1,
   "metadata": {},
   "outputs": [
    {
     "ename": "NotFoundError",
     "evalue": "No CPU devices are available in this process",
     "output_type": "error",
     "traceback": [
      "\u001b[1;31m---------------------------------------------------------------------------\u001b[0m",
      "\u001b[1;31mNotFoundError\u001b[0m                             Traceback (most recent call last)",
      "\u001b[1;32m~\\AppData\\Local\\Temp\\ipykernel_28432\\1158959705.py\u001b[0m in \u001b[0;36m<module>\u001b[1;34m\u001b[0m\n\u001b[0;32m     54\u001b[0m \u001b[1;33m\u001b[0m\u001b[0m\n\u001b[0;32m     55\u001b[0m \u001b[1;31m# Define the model\u001b[0m\u001b[1;33m\u001b[0m\u001b[1;33m\u001b[0m\u001b[0m\n\u001b[1;32m---> 56\u001b[1;33m model = Sequential([\n\u001b[0m\u001b[0;32m     57\u001b[0m     \u001b[0mConv2D\u001b[0m\u001b[1;33m(\u001b[0m\u001b[1;36m64\u001b[0m\u001b[1;33m,\u001b[0m \u001b[1;33m(\u001b[0m\u001b[1;36m3\u001b[0m\u001b[1;33m,\u001b[0m \u001b[1;36m3\u001b[0m\u001b[1;33m)\u001b[0m\u001b[1;33m,\u001b[0m \u001b[0mactivation\u001b[0m\u001b[1;33m=\u001b[0m\u001b[1;34m'relu'\u001b[0m\u001b[1;33m,\u001b[0m \u001b[0mpadding\u001b[0m\u001b[1;33m=\u001b[0m\u001b[1;34m'same'\u001b[0m\u001b[1;33m,\u001b[0m \u001b[0minput_shape\u001b[0m\u001b[1;33m=\u001b[0m\u001b[0minput_imgs\u001b[0m\u001b[1;33m.\u001b[0m\u001b[0mshape\u001b[0m\u001b[1;33m[\u001b[0m\u001b[1;36m1\u001b[0m\u001b[1;33m:\u001b[0m\u001b[1;33m]\u001b[0m\u001b[1;33m)\u001b[0m\u001b[1;33m,\u001b[0m\u001b[1;33m\u001b[0m\u001b[1;33m\u001b[0m\u001b[0m\n\u001b[0;32m     58\u001b[0m     \u001b[0mMaxPooling2D\u001b[0m\u001b[1;33m(\u001b[0m\u001b[1;33m(\u001b[0m\u001b[1;36m2\u001b[0m\u001b[1;33m,\u001b[0m \u001b[1;36m2\u001b[0m\u001b[1;33m)\u001b[0m\u001b[1;33m,\u001b[0m \u001b[0mpadding\u001b[0m\u001b[1;33m=\u001b[0m\u001b[1;34m'same'\u001b[0m\u001b[1;33m)\u001b[0m\u001b[1;33m,\u001b[0m\u001b[1;33m\u001b[0m\u001b[1;33m\u001b[0m\u001b[0m\n",
      "\u001b[1;32mc:\\Users\\maxwe\\anaconda3\\lib\\site-packages\\tensorflow\\python\\trackable\\base.py\u001b[0m in \u001b[0;36m_method_wrapper\u001b[1;34m(self, *args, **kwargs)\u001b[0m\n\u001b[0;32m    203\u001b[0m     \u001b[0mself\u001b[0m\u001b[1;33m.\u001b[0m\u001b[0m_self_setattr_tracking\u001b[0m \u001b[1;33m=\u001b[0m \u001b[1;32mFalse\u001b[0m  \u001b[1;31m# pylint: disable=protected-access\u001b[0m\u001b[1;33m\u001b[0m\u001b[1;33m\u001b[0m\u001b[0m\n\u001b[0;32m    204\u001b[0m     \u001b[1;32mtry\u001b[0m\u001b[1;33m:\u001b[0m\u001b[1;33m\u001b[0m\u001b[1;33m\u001b[0m\u001b[0m\n\u001b[1;32m--> 205\u001b[1;33m       \u001b[0mresult\u001b[0m \u001b[1;33m=\u001b[0m \u001b[0mmethod\u001b[0m\u001b[1;33m(\u001b[0m\u001b[0mself\u001b[0m\u001b[1;33m,\u001b[0m \u001b[1;33m*\u001b[0m\u001b[0margs\u001b[0m\u001b[1;33m,\u001b[0m \u001b[1;33m**\u001b[0m\u001b[0mkwargs\u001b[0m\u001b[1;33m)\u001b[0m\u001b[1;33m\u001b[0m\u001b[1;33m\u001b[0m\u001b[0m\n\u001b[0m\u001b[0;32m    206\u001b[0m     \u001b[1;32mfinally\u001b[0m\u001b[1;33m:\u001b[0m\u001b[1;33m\u001b[0m\u001b[1;33m\u001b[0m\u001b[0m\n\u001b[0;32m    207\u001b[0m       \u001b[0mself\u001b[0m\u001b[1;33m.\u001b[0m\u001b[0m_self_setattr_tracking\u001b[0m \u001b[1;33m=\u001b[0m \u001b[0mprevious_value\u001b[0m  \u001b[1;31m# pylint: disable=protected-access\u001b[0m\u001b[1;33m\u001b[0m\u001b[1;33m\u001b[0m\u001b[0m\n",
      "\u001b[1;32mc:\\Users\\maxwe\\anaconda3\\lib\\site-packages\\keras\\utils\\traceback_utils.py\u001b[0m in \u001b[0;36merror_handler\u001b[1;34m(*args, **kwargs)\u001b[0m\n\u001b[0;32m     68\u001b[0m             \u001b[1;31m# To get the full stack trace, call:\u001b[0m\u001b[1;33m\u001b[0m\u001b[1;33m\u001b[0m\u001b[0m\n\u001b[0;32m     69\u001b[0m             \u001b[1;31m# `tf.debugging.disable_traceback_filtering()`\u001b[0m\u001b[1;33m\u001b[0m\u001b[1;33m\u001b[0m\u001b[0m\n\u001b[1;32m---> 70\u001b[1;33m             \u001b[1;32mraise\u001b[0m \u001b[0me\u001b[0m\u001b[1;33m.\u001b[0m\u001b[0mwith_traceback\u001b[0m\u001b[1;33m(\u001b[0m\u001b[0mfiltered_tb\u001b[0m\u001b[1;33m)\u001b[0m \u001b[1;32mfrom\u001b[0m \u001b[1;32mNone\u001b[0m\u001b[1;33m\u001b[0m\u001b[1;33m\u001b[0m\u001b[0m\n\u001b[0m\u001b[0;32m     71\u001b[0m         \u001b[1;32mfinally\u001b[0m\u001b[1;33m:\u001b[0m\u001b[1;33m\u001b[0m\u001b[1;33m\u001b[0m\u001b[0m\n\u001b[0;32m     72\u001b[0m             \u001b[1;32mdel\u001b[0m \u001b[0mfiltered_tb\u001b[0m\u001b[1;33m\u001b[0m\u001b[1;33m\u001b[0m\u001b[0m\n",
      "\u001b[1;32mc:\\Users\\maxwe\\anaconda3\\lib\\site-packages\\tensorflow\\python\\eager\\context.py\u001b[0m in \u001b[0;36mensure_initialized\u001b[1;34m(self)\u001b[0m\n\u001b[0;32m    581\u001b[0m         pywrap_tfe.TFE_ContextOptionsSetJitCompileRewrite(\n\u001b[0;32m    582\u001b[0m             opts, self._jit_compile_rewrite)\n\u001b[1;32m--> 583\u001b[1;33m         \u001b[0mcontext_handle\u001b[0m \u001b[1;33m=\u001b[0m \u001b[0mpywrap_tfe\u001b[0m\u001b[1;33m.\u001b[0m\u001b[0mTFE_NewContext\u001b[0m\u001b[1;33m(\u001b[0m\u001b[0mopts\u001b[0m\u001b[1;33m)\u001b[0m\u001b[1;33m\u001b[0m\u001b[1;33m\u001b[0m\u001b[0m\n\u001b[0m\u001b[0;32m    584\u001b[0m       \u001b[1;32mfinally\u001b[0m\u001b[1;33m:\u001b[0m\u001b[1;33m\u001b[0m\u001b[1;33m\u001b[0m\u001b[0m\n\u001b[0;32m    585\u001b[0m         \u001b[0mpywrap_tfe\u001b[0m\u001b[1;33m.\u001b[0m\u001b[0mTFE_DeleteContextOptions\u001b[0m\u001b[1;33m(\u001b[0m\u001b[0mopts\u001b[0m\u001b[1;33m)\u001b[0m\u001b[1;33m\u001b[0m\u001b[1;33m\u001b[0m\u001b[0m\n",
      "\u001b[1;31mNotFoundError\u001b[0m: No CPU devices are available in this process"
     ]
    }
   ],
   "source": [
    "import numpy as np\n",
    "from tensorflow.keras.models import Sequential\n",
    "from tensorflow.keras.layers import Conv2D, MaxPooling2D, UpSampling2D\n",
    "from tensorflow.keras.preprocessing.image import load_img, img_to_array\n",
    "from sklearn.model_selection import train_test_split\n",
    "import os\n",
    "from PIL import Image\n",
    "import tensorflow as tf\n",
    "\n",
    "\n",
    "# Set the directory where your images are\n",
    "dir_name = \"plots\"\n",
    "\n",
    "# Get the list of all files in directory\n",
    "all_files = os.listdir(dir_name)\n",
    "\n",
    "\n",
    "# Get the list of input and output image files\n",
    "input_img_paths = [os.path.join(dir_name, file) for file in all_files if \"input\" in file]\n",
    "output_img_paths = [os.path.join(dir_name, file) for file in all_files if \"output\" in file]\n",
    "\n",
    "# Sort the lists (this assumes that for each input file 'input_plot_n.png' there is an output file 'output_plot_n.png')\n",
    "input_img_paths.sort()\n",
    "output_img_paths.sort()\n",
    "\n",
    "# Load the images and convert them to numpy arrays\n",
    "input_imgs = np.array([np.array(Image.open(img_path)) / 255 for img_path in input_img_paths])\n",
    "output_imgs = np.array([np.array(Image.open(img_path)) / 255 for img_path in output_img_paths])\n",
    "\n",
    "def crop_center(img, crop_width, crop_height):\n",
    "    img_width, img_height = img.size\n",
    "    return img.crop(((img_width - crop_width) // 2,\n",
    "                     (img_height - crop_height) // 2,\n",
    "                     (img_width + crop_width) // 2,\n",
    "                     (img_height + crop_height) // 2))\n",
    "\n",
    "# Get the dimensions of the first input image\n",
    "image_shape = Image.open(input_img_paths[0]).size\n",
    "crop_width, crop_height = image_shape\n",
    "\n",
    "# Load and preprocess the data\n",
    "input_imgs = np.array([img_to_array(crop_center(load_img(img_path), crop_width, crop_height)) / 255 for img_path in input_img_paths])\n",
    "output_imgs = np.array([img_to_array(crop_center(load_img(img_path), crop_width, crop_height)) / 255 for img_path in output_img_paths])\n",
    "\n",
    "# Split the data into training and validation sets\n",
    "input_train, input_val, output_train, output_val = train_test_split(input_imgs, output_imgs, test_size=0.2, random_state=42)\n",
    "\n",
    "# Set the GPU as the default device\n",
    "tf.config.set_visible_devices(tf.config.list_physical_devices('GPU'))\n",
    "\n",
    "# Enable memory growth to allocate memory on the GPU as needed\n",
    "for gpu in tf.config.list_physical_devices('GPU'):\n",
    "    tf.config.experimental.set_memory_growth(gpu, True)\n",
    "\n",
    "# Define the model\n",
    "model = Sequential([\n",
    "    Conv2D(64, (3, 3), activation='relu', padding='same', input_shape=input_imgs.shape[1:]),\n",
    "    MaxPooling2D((2, 2), padding='same'),\n",
    "    Conv2D(32, (3, 3), activation='relu', padding='same'),\n",
    "    MaxPooling2D((2, 2), padding='same'),\n",
    "    Conv2D(32, (3, 3), activation='relu', padding='same'),\n",
    "    UpSampling2D((2, 2)),\n",
    "    Conv2D(64, (3, 3), activation='relu', padding='same'),\n",
    "    UpSampling2D((2, 2)),\n",
    "    Conv2D(3, (3, 3), activation='sigmoid', padding='same')\n",
    "])\n",
    "\n",
    "# Compile the model\n",
    "model.compile(optimizer='adam', loss='mean_squared_error')\n",
    "\n",
    "# Train the model\n",
    "with tf.device('/GPU:0'):\n",
    "    model.fit(input_train, output_train, epochs=10, validation_data=(input_val, output_val))\n",
    "\n",
    "# Predict on a new image\n",
    "new_input_img = img_to_array(load_img(\"C:/Users/maxwe/Documents/Github repos/ChemProject/plots/input_plot_1.png\")) / 255\n",
    "new_output_img = model.predict(new_input_img[np.newaxis, ...])[0]\n"
   ]
  },
  {
   "cell_type": "code",
   "execution_count": 2,
   "metadata": {},
   "outputs": [
    {
     "data": {
      "text/plain": [
       "[]"
      ]
     },
     "execution_count": 2,
     "metadata": {},
     "output_type": "execute_result"
    }
   ],
   "source": [
    "import tensorflow as tf\n",
    "tf.config.list_physical_devices('GPU')"
   ]
  },
  {
   "cell_type": "code",
   "execution_count": null,
   "metadata": {},
   "outputs": [],
   "source": [
    "import matplotlib.pyplot as plt\n",
    "\n",
    "# Convert the data type to uint8 and rescale the values to the 0-255 range\n",
    "new_input_img_disp = np.clip(new_input_img * 255, 0, 255).astype('uint8')\n",
    "new_output_img_disp = np.clip(new_output_img * 255, 0, 255).astype('uint8')\n",
    "\n",
    "# Create a new figure\n",
    "plt.figure(figsize=(10, 5))\n",
    "\n",
    "# Display the original image\n",
    "plt.subplot(1, 2, 1)\n",
    "plt.imshow(new_input_img_disp)\n",
    "plt.title(\"Original image\")\n",
    "plt.axis(\"off\")\n",
    "\n",
    "# Display the predicted image\n",
    "plt.subplot(1, 2, 2)\n",
    "plt.imshow(new_output_img_disp)\n",
    "plt.title(\"Predicted image\")\n",
    "plt.axis(\"off\")\n",
    "\n",
    "# Show the figure\n",
    "plt.show()\n"
   ]
  },
  {
   "attachments": {},
   "cell_type": "markdown",
   "metadata": {},
   "source": [
    "# Conclusion"
   ]
  },
  {
   "attachments": {},
   "cell_type": "markdown",
   "metadata": {},
   "source": [
    "The initial results did not meet our expectations, indicating the need for adjustments and improvements to the model. Several tweaks were implemented, including increasing the volume of data used for training. By incorporating more data and fine-tuning the model, we anticipate achieving better and more accurate results. "
   ]
  }
 ],
 "metadata": {
  "kernelspec": {
   "display_name": "base",
   "language": "python",
   "name": "python3"
  },
  "language_info": {
   "codemirror_mode": {
    "name": "ipython",
    "version": 3
   },
   "file_extension": ".py",
   "mimetype": "text/x-python",
   "name": "python",
   "nbconvert_exporter": "python",
   "pygments_lexer": "ipython3",
   "version": "3.9.13"
  },
  "orig_nbformat": 4
 },
 "nbformat": 4,
 "nbformat_minor": 2
}
